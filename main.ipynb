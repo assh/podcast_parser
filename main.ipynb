{
 "cells": [
  {
   "cell_type": "code",
   "execution_count": 9,
   "metadata": {},
   "outputs": [],
   "source": [
    "import os\n",
    "import requests\n",
    "import hashlib\n",
    "from feedparser import parse"
   ]
  },
  {
   "cell_type": "code",
   "execution_count": 16,
   "metadata": {},
   "outputs": [],
   "source": [
    "def download_podcast_episodes(feed, dir):\n",
    "    feed = parse(feed)\n",
    "    for entry in feed.entries:\n",
    "        url = entry.enclosures[0].href\n",
    "        title = entry.title\n",
    "        filename = os.path.join(dir, title + '.mp3')\n",
    "        if os.path.exists(filename):\n",
    "            print('Skipping', title)\n",
    "            continue\n",
    "        print('Downloading', title)\n",
    "        r = requests.get(url)\n",
    "        with open(filename, 'wb') as f:\n",
    "            f.write(r.content)\n",
    "        \n",
    "        # create csv with file names appened to the end\n",
    "        with open('podcast.csv', 'a') as f:\n",
    "            f.write(filename + '\\n')"
   ]
  },
  {
   "cell_type": "code",
   "execution_count": 15,
   "metadata": {},
   "outputs": [],
   "source": [
    "# get list of episodes in directory and add to new json file\n",
    "for files in os.listdir('Spooked'):\n",
    "    with open('podcast.txt', 'a') as f:\n",
    "        f.write(files + '\\n')"
   ]
  },
  {
   "cell_type": "code",
   "execution_count": 10,
   "metadata": {},
   "outputs": [],
   "source": [
    "# Function to fetch the podcast feed\n",
    "def fetch_podcast_feed(feed_url):\n",
    "    return parse(feed_url)\n",
    "\n",
    "# Function to create a hash for episode titles (or you can use episode GUIDs)\n",
    "def get_episode_hash(title):\n",
    "    return hashlib.md5(title.encode('utf-8')).hexdigest()\n",
    "\n",
    "# Function to check which episodes have already been downloaded\n",
    "def get_downloaded_episodes(save_directory):\n",
    "    if not os.path.exists(save_directory):\n",
    "        os.makedirs(save_directory)\n",
    "    return set(os.listdir(save_directory))\n",
    "\n",
    "# Function to download and save the podcast episode\n",
    "def download_podcast_episodes(feed, save_directory):\n",
    "    downloaded_episodes = get_downloaded_episodes(save_directory)\n",
    "    \n",
    "    for entry in feed.entries:\n",
    "        episode_title = entry.title\n",
    "        episode_hash = get_episode_hash(episode_title)\n",
    "        episode_file = os.path.join(save_directory, episode_hash + \".mp3\")  # Assuming MP3 format\n",
    "        \n",
    "        # Skip if episode already exists\n",
    "        if episode_title + \".mp3\" in downloaded_episodes:\n",
    "            print(f\"Episode '{episode_title}' already downloaded. Skipping...\")\n",
    "            continue\n",
    "        \n",
    "        # Download the episode\n",
    "        audio_url = entry.enclosures[0]['url']  # Assuming enclosures contain the audio file URL\n",
    "        response = requests.get(audio_url)\n",
    "        \n",
    "        if response.status_code == 200:\n",
    "            # Save the episode\n",
    "            with open(episode_file, 'wb') as f:\n",
    "                f.write(response.content)\n",
    "            print(f\"Downloaded and saved episode '{episode_title}'.\")\n",
    "        else:\n",
    "            print(f\"Failed to download episode '{episode_title}'. Status code: {response.status_code}\")"
   ]
  },
  {
   "cell_type": "code",
   "execution_count": 17,
   "metadata": {},
   "outputs": [
    {
     "ename": "AttributeError",
     "evalue": "object has no attribute 'encode'",
     "output_type": "error",
     "traceback": [
      "\u001b[0;31m---------------------------------------------------------------------------\u001b[0m",
      "\u001b[0;31mKeyError\u001b[0m                                  Traceback (most recent call last)",
      "File \u001b[0;32m~/Developer/python/podcast_parser/.venv/lib/python3.12/site-packages/feedparser/util.py:156\u001b[0m, in \u001b[0;36mFeedParserDict.__getattr__\u001b[0;34m(self, key)\u001b[0m\n\u001b[1;32m    155\u001b[0m \u001b[38;5;28;01mtry\u001b[39;00m:\n\u001b[0;32m--> 156\u001b[0m     \u001b[38;5;28;01mreturn\u001b[39;00m \u001b[38;5;28;43mself\u001b[39;49m\u001b[38;5;241;43m.\u001b[39;49m\u001b[38;5;21;43m__getitem__\u001b[39;49m\u001b[43m(\u001b[49m\u001b[43mkey\u001b[49m\u001b[43m)\u001b[49m\n\u001b[1;32m    157\u001b[0m \u001b[38;5;28;01mexcept\u001b[39;00m \u001b[38;5;167;01mKeyError\u001b[39;00m:\n",
      "File \u001b[0;32m~/Developer/python/podcast_parser/.venv/lib/python3.12/site-packages/feedparser/util.py:113\u001b[0m, in \u001b[0;36mFeedParserDict.__getitem__\u001b[0;34m(self, key)\u001b[0m\n\u001b[1;32m    112\u001b[0m         \u001b[38;5;28;01mreturn\u001b[39;00m \u001b[38;5;28mdict\u001b[39m\u001b[38;5;241m.\u001b[39m\u001b[38;5;21m__getitem__\u001b[39m(\u001b[38;5;28mself\u001b[39m, realkey)\n\u001b[0;32m--> 113\u001b[0m \u001b[38;5;28;01mreturn\u001b[39;00m \u001b[38;5;28;43mdict\u001b[39;49m\u001b[38;5;241;43m.\u001b[39;49m\u001b[38;5;21;43m__getitem__\u001b[39;49m\u001b[43m(\u001b[49m\u001b[38;5;28;43mself\u001b[39;49m\u001b[43m,\u001b[49m\u001b[43m \u001b[49m\u001b[43mkey\u001b[49m\u001b[43m)\u001b[49m\n",
      "\u001b[0;31mKeyError\u001b[0m: 'encode'",
      "\nDuring handling of the above exception, another exception occurred:\n",
      "\u001b[0;31mAttributeError\u001b[0m                            Traceback (most recent call last)",
      "Cell \u001b[0;32mIn[17], line 6\u001b[0m\n\u001b[1;32m      4\u001b[0m \u001b[38;5;66;03m# Fetch feed, download episodes, and add metadata\u001b[39;00m\n\u001b[1;32m      5\u001b[0m feed \u001b[38;5;241m=\u001b[39m fetch_podcast_feed(feed_url)\n\u001b[0;32m----> 6\u001b[0m \u001b[43mdownload_podcast_episodes\u001b[49m\u001b[43m(\u001b[49m\u001b[43mfeed\u001b[49m\u001b[43m,\u001b[49m\u001b[43m \u001b[49m\u001b[43msave_directory\u001b[49m\u001b[43m)\u001b[49m\n",
      "Cell \u001b[0;32mIn[16], line 2\u001b[0m, in \u001b[0;36mdownload_podcast_episodes\u001b[0;34m(feed, dir)\u001b[0m\n\u001b[1;32m      1\u001b[0m \u001b[38;5;28;01mdef\u001b[39;00m \u001b[38;5;21mdownload_podcast_episodes\u001b[39m(feed, \u001b[38;5;28mdir\u001b[39m):\n\u001b[0;32m----> 2\u001b[0m     feed \u001b[38;5;241m=\u001b[39m \u001b[43mparse\u001b[49m\u001b[43m(\u001b[49m\u001b[43mfeed\u001b[49m\u001b[43m)\u001b[49m\n\u001b[1;32m      3\u001b[0m     \u001b[38;5;28;01mfor\u001b[39;00m entry \u001b[38;5;129;01min\u001b[39;00m feed\u001b[38;5;241m.\u001b[39mentries:\n\u001b[1;32m      4\u001b[0m         url \u001b[38;5;241m=\u001b[39m entry\u001b[38;5;241m.\u001b[39menclosures[\u001b[38;5;241m0\u001b[39m]\u001b[38;5;241m.\u001b[39mhref\n",
      "File \u001b[0;32m~/Developer/python/podcast_parser/.venv/lib/python3.12/site-packages/feedparser/api.py:216\u001b[0m, in \u001b[0;36mparse\u001b[0;34m(url_file_stream_or_string, etag, modified, agent, referrer, handlers, request_headers, response_headers, resolve_relative_uris, sanitize_html)\u001b[0m\n\u001b[1;32m    208\u001b[0m result \u001b[38;5;241m=\u001b[39m FeedParserDict(\n\u001b[1;32m    209\u001b[0m     bozo\u001b[38;5;241m=\u001b[39m\u001b[38;5;28;01mFalse\u001b[39;00m,\n\u001b[1;32m    210\u001b[0m     entries\u001b[38;5;241m=\u001b[39m[],\n\u001b[1;32m    211\u001b[0m     feed\u001b[38;5;241m=\u001b[39mFeedParserDict(),\n\u001b[1;32m    212\u001b[0m     headers\u001b[38;5;241m=\u001b[39m{},\n\u001b[1;32m    213\u001b[0m )\n\u001b[1;32m    215\u001b[0m \u001b[38;5;28;01mtry\u001b[39;00m:\n\u001b[0;32m--> 216\u001b[0m     data \u001b[38;5;241m=\u001b[39m \u001b[43m_open_resource\u001b[49m\u001b[43m(\u001b[49m\u001b[43murl_file_stream_or_string\u001b[49m\u001b[43m,\u001b[49m\u001b[43m \u001b[49m\u001b[43metag\u001b[49m\u001b[43m,\u001b[49m\u001b[43m \u001b[49m\u001b[43mmodified\u001b[49m\u001b[43m,\u001b[49m\u001b[43m \u001b[49m\u001b[43magent\u001b[49m\u001b[43m,\u001b[49m\u001b[43m \u001b[49m\u001b[43mreferrer\u001b[49m\u001b[43m,\u001b[49m\u001b[43m \u001b[49m\u001b[43mhandlers\u001b[49m\u001b[43m,\u001b[49m\u001b[43m \u001b[49m\u001b[43mrequest_headers\u001b[49m\u001b[43m,\u001b[49m\u001b[43m \u001b[49m\u001b[43mresult\u001b[49m\u001b[43m)\u001b[49m\n\u001b[1;32m    217\u001b[0m \u001b[38;5;28;01mexcept\u001b[39;00m urllib\u001b[38;5;241m.\u001b[39merror\u001b[38;5;241m.\u001b[39mURLError \u001b[38;5;28;01mas\u001b[39;00m error:\n\u001b[1;32m    218\u001b[0m     result\u001b[38;5;241m.\u001b[39mupdate({\n\u001b[1;32m    219\u001b[0m         \u001b[38;5;124m'\u001b[39m\u001b[38;5;124mbozo\u001b[39m\u001b[38;5;124m'\u001b[39m: \u001b[38;5;28;01mTrue\u001b[39;00m,\n\u001b[1;32m    220\u001b[0m         \u001b[38;5;124m'\u001b[39m\u001b[38;5;124mbozo_exception\u001b[39m\u001b[38;5;124m'\u001b[39m: error,\n\u001b[1;32m    221\u001b[0m     })\n",
      "File \u001b[0;32m~/Developer/python/podcast_parser/.venv/lib/python3.12/site-packages/feedparser/api.py:135\u001b[0m, in \u001b[0;36m_open_resource\u001b[0;34m(url_file_stream_or_string, etag, modified, agent, referrer, handlers, request_headers, result)\u001b[0m\n\u001b[1;32m    133\u001b[0m \u001b[38;5;66;03m# treat url_file_stream_or_string as string\u001b[39;00m\n\u001b[1;32m    134\u001b[0m \u001b[38;5;28;01mif\u001b[39;00m \u001b[38;5;129;01mnot\u001b[39;00m \u001b[38;5;28misinstance\u001b[39m(url_file_stream_or_string, \u001b[38;5;28mbytes\u001b[39m):\n\u001b[0;32m--> 135\u001b[0m     \u001b[38;5;28;01mreturn\u001b[39;00m \u001b[43murl_file_stream_or_string\u001b[49m\u001b[38;5;241;43m.\u001b[39;49m\u001b[43mencode\u001b[49m(\u001b[38;5;124m'\u001b[39m\u001b[38;5;124mutf-8\u001b[39m\u001b[38;5;124m'\u001b[39m)\n\u001b[1;32m    136\u001b[0m \u001b[38;5;28;01mreturn\u001b[39;00m url_file_stream_or_string\n",
      "File \u001b[0;32m~/Developer/python/podcast_parser/.venv/lib/python3.12/site-packages/feedparser/util.py:158\u001b[0m, in \u001b[0;36mFeedParserDict.__getattr__\u001b[0;34m(self, key)\u001b[0m\n\u001b[1;32m    156\u001b[0m     \u001b[38;5;28;01mreturn\u001b[39;00m \u001b[38;5;28mself\u001b[39m\u001b[38;5;241m.\u001b[39m\u001b[38;5;21m__getitem__\u001b[39m(key)\n\u001b[1;32m    157\u001b[0m \u001b[38;5;28;01mexcept\u001b[39;00m \u001b[38;5;167;01mKeyError\u001b[39;00m:\n\u001b[0;32m--> 158\u001b[0m     \u001b[38;5;28;01mraise\u001b[39;00m \u001b[38;5;167;01mAttributeError\u001b[39;00m(\u001b[38;5;124m\"\u001b[39m\u001b[38;5;124mobject has no attribute \u001b[39m\u001b[38;5;124m'\u001b[39m\u001b[38;5;132;01m%s\u001b[39;00m\u001b[38;5;124m'\u001b[39m\u001b[38;5;124m\"\u001b[39m \u001b[38;5;241m%\u001b[39m key)\n",
      "\u001b[0;31mAttributeError\u001b[0m: object has no attribute 'encode'"
     ]
    }
   ],
   "source": [
    "feed_url = \"https://feeds.simplecast.com/TBotaapn\"  # Replace with actual podcast RSS feed\n",
    "save_directory = \"Spooked\"\n",
    "\n",
    "# Fetch feed, download episodes, and add metadata\n",
    "feed = fetch_podcast_feed(feed_url)\n",
    "download_podcast_episodes(feed, save_directory)"
   ]
  }
 ],
 "metadata": {
  "kernelspec": {
   "display_name": ".venv",
   "language": "python",
   "name": "python3"
  },
  "language_info": {
   "codemirror_mode": {
    "name": "ipython",
    "version": 3
   },
   "file_extension": ".py",
   "mimetype": "text/x-python",
   "name": "python",
   "nbconvert_exporter": "python",
   "pygments_lexer": "ipython3",
   "version": "3.12.7"
  }
 },
 "nbformat": 4,
 "nbformat_minor": 2
}
